{
 "cells": [
  {
   "cell_type": "code",
   "execution_count": 71,
   "metadata": {},
   "outputs": [],
   "source": [
    "import os\n",
    "import tqdm\n",
    "import json\n",
    "import logging\n",
    "import random\n",
    "import numpy as np\n",
    "import location_finding\n",
    "import hyperbolic_temporal_discount\n",
    "import death_process\n",
    "import irt\n",
    "import survival_analysis\n",
    "import peregrines\n",
    "import dugongs\n",
    "import lotka_volterra\n",
    "import moral_machines\n",
    "import emotion\n",
    "import rat_tumor"
   ]
  },
  {
   "cell_type": "code",
   "execution_count": 80,
   "metadata": {},
   "outputs": [],
   "source": [
    "results_dir = \"./results\"\n",
    "exp = \"discovery\"\n",
    "env = \"morals\"\n",
    "goal = \"direct_discovery\"\n",
    "model = \"gpt-4o\"\n",
    "seeds = [1,2,3,4,5] \n",
    "box = False \n",
    "if box:\n",
    "    model += \"-boxloop\""
   ]
  },
  {
   "cell_type": "code",
   "execution_count": 81,
   "metadata": {},
   "outputs": [],
   "source": [
    "nametoenv = {    \n",
    "    \"location_finding\": location_finding.Signal,\n",
    "    \"hyperbolic_temporal_discount\": hyperbolic_temporal_discount.TemporalDiscount,\n",
    "    \"death_process\": death_process.DeathProcess,\n",
    "    \"irt\": irt.IRT,\n",
    "    \"survival\": survival_analysis.SurvivalAnalysis,\n",
    "    \"dugongs\": dugongs.Dugongs,\n",
    "    \"peregrines\": peregrines.Peregrines,\n",
    "    \"morals\": moral_machines.MoralMachine,\n",
    "    \"emotion\": emotion.EmotionFromOutcome,\n",
    "    \"lotka_volterra\": lotka_volterra.LotkaVolterra,\n",
    "    \"rat_tumor\": rat_tumor.RatTumorModel\n",
    "}\n",
    "nameenvtogoal = {\n",
    "    (\"hyperbolic_temporal_discount\", \"direct\"): hyperbolic_temporal_discount.DirectGoal,\n",
    "    (\"hyperbolic_temporal_discount\", \"discount\"): hyperbolic_temporal_discount.DiscountGoal,\n",
    "    (\"hyperbolic_temporal_discount\", \"direct_discovery\"): hyperbolic_temporal_discount.DirectGoalNaive,\n",
    "    (\"location_finding\", \"direct\"): location_finding.DirectGoal,\n",
    "    (\"location_finding\", \"source\"): location_finding.SourceGoal,\n",
    "    (\"location_finding\", \"direct_discovery\"): location_finding.DirectGoalNaive,\n",
    "    (\"death_process\", \"direct\"): death_process.DirectDeath,\n",
    "    (\"death_process\", \"direct_discovery\"): death_process.DirectDeathNaive,\n",
    "    (\"death_process\", \"infection\"): death_process.InfectionRate,\n",
    "    (\"irt\", \"direct\"): irt.DirectCorrectness,\n",
    "    (\"irt\", \"direct_discovery\"): irt.DirectCorrectnessNaive,\n",
    "    (\"irt\", \"best_student\"): irt.BestStudent,\n",
    "    (\"irt\", \"difficult_question\"): irt.DifficultQuestion,\n",
    "    (\"irt\", \"discriminate_question\"): irt.DiscriminatingQuestion,\n",
    "    (\"survival\", \"direct\"): survival_analysis.DirectGoal,\n",
    "    (\"survival\", \"direct_discovery\"): survival_analysis.DirectGoalNaive,\n",
    "    (\"dugongs\", \"direct\"): dugongs.DirectGoal,\n",
    "    (\"dugongs\", \"direct_discovery\"): dugongs.DirectGoalNaive,\n",
    "    (\"peregrines\", \"direct\"): peregrines.DirectGoal,\n",
    "    (\"peregrines\", \"direct_discovery\"): peregrines.DirectGoalNaive,\n",
    "    (\"emotion\", \"direct\"): emotion.DirectEmotionPrediction,\n",
    "    (\"emotion\", \"direct_discovery\"): emotion.DirectEmotionNaive,\n",
    "    (\"morals\", \"direct\"): moral_machines.DirectPrediction,\n",
    "    (\"morals\", \"direct_discovery\"): moral_machines.DirectPredictionNaive,\n",
    "    (\"lotka_volterra\", \"direct\"): lotka_volterra.DirectGoal,\n",
    "    (\"lotka_volterra\", \"direct_discovery\"): lotka_volterra.DirectGoalNaive,\n",
    "    (\"rat_tumor\", \"direct\"): rat_tumor.DirectGoal,\n",
    "    (\"rat_tumor\", \"direct_discovery\"): rat_tumor.DirectGoalNaive\n",
    "}"
   ]
  },
  {
   "cell_type": "code",
   "execution_count": 82,
   "metadata": {},
   "outputs": [],
   "source": [
    "environ = nametoenv[env]()\n",
    "goaln = nameenvtogoal[env, goal](environ)\n",
    "norm_mu = goaln.norm_mu\n",
    "norm_sigma = goaln.norm_sigma\n",
    "\n"
   ]
  },
  {
   "cell_type": "code",
   "execution_count": 83,
   "metadata": {},
   "outputs": [],
   "source": [
    "files = [os.path.join(results_dir, env, f\"{goal}_{model}_{exp}_True_{seed}.json\") for seed in seeds]\n",
    "files_no_prior = [os.path.join(results_dir, env, f\"{goal}_{model}_{exp}_False_{seed}.json\") for seed in seeds]"
   ]
  },
  {
   "cell_type": "code",
   "execution_count": 84,
   "metadata": {},
   "outputs": [
    {
     "name": "stdout",
     "output_type": "stream",
     "text": [
      "./results/morals/direct_discovery_gpt-4o_discovery_True_1.json\n",
      "./results/morals/direct_discovery_gpt-4o_discovery_True_2.json\n",
      "./results/morals/direct_discovery_gpt-4o_discovery_True_3.json\n",
      "./results/morals/direct_discovery_gpt-4o_discovery_True_4.json\n",
      "./results/morals/direct_discovery_gpt-4o_discovery_True_5.json\n",
      "./results/morals/direct_discovery_gpt-4o_discovery_False_1.json\n"
     ]
    },
    {
     "ename": "FileNotFoundError",
     "evalue": "[Errno 2] No such file or directory: './results/morals/direct_discovery_gpt-4o_discovery_False_1.json'",
     "output_type": "error",
     "traceback": [
      "\u001b[0;31m---------------------------------------------------------------------------\u001b[0m",
      "\u001b[0;31mFileNotFoundError\u001b[0m                         Traceback (most recent call last)",
      "Cell \u001b[0;32mIn[84], line 9\u001b[0m\n\u001b[1;32m      7\u001b[0m \u001b[38;5;28;01mfor\u001b[39;00m file \u001b[38;5;129;01min\u001b[39;00m files_no_prior:\n\u001b[1;32m      8\u001b[0m     \u001b[38;5;28mprint\u001b[39m(file)\n\u001b[0;32m----> 9\u001b[0m     \u001b[38;5;28;01mwith\u001b[39;00m \u001b[38;5;28;43mopen\u001b[39;49m\u001b[43m(\u001b[49m\u001b[43mfile\u001b[49m\u001b[43m,\u001b[49m\u001b[43m \u001b[49m\u001b[38;5;124;43m\"\u001b[39;49m\u001b[38;5;124;43mr\u001b[39;49m\u001b[38;5;124;43m\"\u001b[39;49m\u001b[43m)\u001b[49m \u001b[38;5;28;01mas\u001b[39;00m f:\n\u001b[1;32m     10\u001b[0m         data_no_prior\u001b[38;5;241m.\u001b[39mappend(json\u001b[38;5;241m.\u001b[39mload(f))\n",
      "File \u001b[0;32m~/opt/anaconda3/envs/empathy/lib/python3.10/site-packages/IPython/core/interactiveshell.py:324\u001b[0m, in \u001b[0;36m_modified_open\u001b[0;34m(file, *args, **kwargs)\u001b[0m\n\u001b[1;32m    317\u001b[0m \u001b[38;5;28;01mif\u001b[39;00m file \u001b[38;5;129;01min\u001b[39;00m {\u001b[38;5;241m0\u001b[39m, \u001b[38;5;241m1\u001b[39m, \u001b[38;5;241m2\u001b[39m}:\n\u001b[1;32m    318\u001b[0m     \u001b[38;5;28;01mraise\u001b[39;00m \u001b[38;5;167;01mValueError\u001b[39;00m(\n\u001b[1;32m    319\u001b[0m         \u001b[38;5;124mf\u001b[39m\u001b[38;5;124m\"\u001b[39m\u001b[38;5;124mIPython won\u001b[39m\u001b[38;5;124m'\u001b[39m\u001b[38;5;124mt let you open fd=\u001b[39m\u001b[38;5;132;01m{\u001b[39;00mfile\u001b[38;5;132;01m}\u001b[39;00m\u001b[38;5;124m by default \u001b[39m\u001b[38;5;124m\"\u001b[39m\n\u001b[1;32m    320\u001b[0m         \u001b[38;5;124m\"\u001b[39m\u001b[38;5;124mas it is likely to crash IPython. If you know what you are doing, \u001b[39m\u001b[38;5;124m\"\u001b[39m\n\u001b[1;32m    321\u001b[0m         \u001b[38;5;124m\"\u001b[39m\u001b[38;5;124myou can use builtins\u001b[39m\u001b[38;5;124m'\u001b[39m\u001b[38;5;124m open.\u001b[39m\u001b[38;5;124m\"\u001b[39m\n\u001b[1;32m    322\u001b[0m     )\n\u001b[0;32m--> 324\u001b[0m \u001b[38;5;28;01mreturn\u001b[39;00m \u001b[43mio_open\u001b[49m\u001b[43m(\u001b[49m\u001b[43mfile\u001b[49m\u001b[43m,\u001b[49m\u001b[43m \u001b[49m\u001b[38;5;241;43m*\u001b[39;49m\u001b[43margs\u001b[49m\u001b[43m,\u001b[49m\u001b[43m \u001b[49m\u001b[38;5;241;43m*\u001b[39;49m\u001b[38;5;241;43m*\u001b[39;49m\u001b[43mkwargs\u001b[49m\u001b[43m)\u001b[49m\n",
      "\u001b[0;31mFileNotFoundError\u001b[0m: [Errno 2] No such file or directory: './results/morals/direct_discovery_gpt-4o_discovery_False_1.json'"
     ]
    }
   ],
   "source": [
    "data = []\n",
    "for file in files:\n",
    "    print(file)\n",
    "    with open(file, \"r\") as f:\n",
    "        data.append(json.load(f))\n",
    "data_no_prior = []\n",
    "for file in files_no_prior:\n",
    "    print(file)\n",
    "    with open(file, \"r\") as f:\n",
    "        data_no_prior.append(json.load(f))"
   ]
  },
  {
   "cell_type": "code",
   "execution_count": 85,
   "metadata": {},
   "outputs": [
    {
     "name": "stdout",
     "output_type": "stream",
     "text": [
      "10\n"
     ]
    }
   ],
   "source": [
    "print(len(data[0]['data']['queries']))\n",
    "# (mean, std), questions, gts, predictions"
   ]
  },
  {
   "cell_type": "code",
   "execution_count": 86,
   "metadata": {},
   "outputs": [
    {
     "name": "stdout",
     "output_type": "stream",
     "text": [
      "removing\n",
      "(1,)\n"
     ]
    },
    {
     "name": "stderr",
     "output_type": "stream",
     "text": [
      "/Users/kanishk/opt/anaconda3/envs/empathy/lib/python3.10/site-packages/numpy/core/fromnumeric.py:3432: RuntimeWarning: Mean of empty slice.\n",
      "  return _methods._mean(a, axis=axis, dtype=dtype,\n",
      "/Users/kanishk/opt/anaconda3/envs/empathy/lib/python3.10/site-packages/numpy/core/_methods.py:190: RuntimeWarning: invalid value encountered in double_scalars\n",
      "  ret = ret.dtype.type(ret / rcount)\n",
      "/Users/kanishk/opt/anaconda3/envs/empathy/lib/python3.10/site-packages/numpy/core/_methods.py:265: RuntimeWarning: Degrees of freedom <= 0 for slice\n",
      "  ret = _var(a, axis=axis, dtype=dtype, out=out, ddof=ddof,\n",
      "/Users/kanishk/opt/anaconda3/envs/empathy/lib/python3.10/site-packages/numpy/core/_methods.py:223: RuntimeWarning: invalid value encountered in divide\n",
      "  arrmean = um.true_divide(arrmean, div, out=arrmean, casting='unsafe',\n",
      "/Users/kanishk/opt/anaconda3/envs/empathy/lib/python3.10/site-packages/numpy/core/_methods.py:257: RuntimeWarning: invalid value encountered in double_scalars\n",
      "  ret = ret.dtype.type(ret / rcount)\n"
     ]
    }
   ],
   "source": [
    "import numpy as np\n",
    "errs, stds = [], []\n",
    "for d in data:\n",
    "    errs.append([])\n",
    "    stds.append([])\n",
    "    for r in d['data']['results']: \n",
    "        errs[-1].append(r[0][0])\n",
    "        stds[-1].append(r[0][1])\n",
    "errs_no_prior, stds_no_prior = [], []\n",
    "for d in data_no_prior:\n",
    "    errs_no_prior.append([])\n",
    "    stds_no_prior.append([])\n",
    "    for r in d['data']['results']: \n",
    "        errs_no_prior[-1].append(r[0][0])\n",
    "        stds_no_prior[-1].append(r[0][1])\n",
    "\n",
    "errs = np.array(errs)\n",
    "stds = np.array(stds)\n",
    "errs_no_prior = np.array(errs_no_prior)\n",
    "stds_no_prior = np.array(stds_no_prior)\n",
    "\n",
    "if env == \"location_finding\" and \"direct\" in goal:\n",
    "    # clip\n",
    "    errs = np.clip(errs, 0, 10000)\n",
    "    errs_no_prior = np.clip(errs_no_prior, 0, 10000)\n",
    "\n",
    "\n",
    "# normalize\n",
    "errs = (errs - norm_mu) / norm_sigma\n",
    "errs_no_prior = (errs_no_prior - norm_mu) / norm_sigma\n",
    "\n",
    "if env == \"hyperbolic_temporal_discount\" and \"direct\" in goal:\n",
    "    errs = 1 - errs\n",
    "    errs_no_prior = 1 - errs_no_prior\n",
    "# elif env == \"peregrines\":\n",
    "#     errs = errs ** 0.5\n",
    "#     errs_no_prior = errs_no_prior ** 0.5\n",
    "elif env == \"survival\":\n",
    "    errs = 1 - errs\n",
    "    errs_no_prior = 1 - errs_no_prior\n",
    "if env == \"morals\":\n",
    "    print(\"removing\")\n",
    "    errs = 1 - errs\n",
    "\n",
    "mean_score = np.mean(errs, axis=0)\n",
    "ci_95 = 1.96 * np.std(errs, axis=0) / np.sqrt(len(errs))\n",
    "mean_score_no_prior = np.mean(errs_no_prior, axis=0)\n",
    "ci_95_no_prior = 1.96 * np.std(errs_no_prior, axis=0) / np.sqrt(len(errs_no_prior))\n",
    "\n",
    "\n",
    "\n",
    "print(mean_score.shape)"
   ]
  },
  {
   "cell_type": "code",
   "execution_count": 87,
   "metadata": {},
   "outputs": [
    {
     "name": "stdout",
     "output_type": "stream",
     "text": [
      "[0.60339161] [0.13273056] nan nan\n"
     ]
    }
   ],
   "source": [
    "print(mean_score, ci_95, mean_score_no_prior, ci_95_no_prior)"
   ]
  },
  {
   "cell_type": "code",
   "execution_count": null,
   "metadata": {},
   "outputs": [],
   "source": []
  },
  {
   "cell_type": "code",
   "execution_count": null,
   "metadata": {},
   "outputs": [],
   "source": []
  },
  {
   "cell_type": "code",
   "execution_count": null,
   "metadata": {},
   "outputs": [],
   "source": []
  }
 ],
 "metadata": {
  "kernelspec": {
   "display_name": "empathy",
   "language": "python",
   "name": "python3"
  },
  "language_info": {
   "codemirror_mode": {
    "name": "ipython",
    "version": 3
   },
   "file_extension": ".py",
   "mimetype": "text/x-python",
   "name": "python",
   "nbconvert_exporter": "python",
   "pygments_lexer": "ipython3",
   "version": "3.1.undefined"
  }
 },
 "nbformat": 4,
 "nbformat_minor": 2
}
